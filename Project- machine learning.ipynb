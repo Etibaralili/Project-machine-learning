{
  "nbformat": 4,
  "nbformat_minor": 0,
  "metadata": {
    "colab": {
      "name": "Machine learning.ipynb",
      "provenance": [],
      "collapsed_sections": []
    },
    "kernelspec": {
      "name": "python3",
      "display_name": "Python 3"
    }
  },
  "cells": [
    {
      "cell_type": "code",
      "metadata": {
        "id": "vRDLqNBTvQeX",
        "colab_type": "code",
        "colab": {}
      },
      "source": [
        "from functools import reduce\n",
        "import numpy as np # linear algebra\n",
        "import pandas as pd # data processing, CSV file I/O (e.g. pd.read_csv)\n",
        "import matplotlib.pyplot as plt # standard graphics\n",
        "import seaborn as sns # fancier graphics\n",
        "from sklearn.linear_model import LogisticRegression\n",
        "from sklearn.metrics import accuracy_score\n",
        "from sklearn.utils import resample"
      ],
      "execution_count": 0,
      "outputs": []
    },
    {
      "cell_type": "code",
      "metadata": {
        "id": "vIpVb6IuEkIM",
        "colab_type": "code",
        "colab": {}
      },
      "source": [
        "#Setting up Spark environment\n",
        "!apt-get install openjdk-8-jdk-headless -qq > /dev/null\n",
        "!wget -q https://www-us.apache.org/dist/spark/spark-2.4.5/spark-2.4.5-bin-hadoop2.7.tgz\n",
        "!tar xf spark-2.4.5-bin-hadoop2.7.tgz\n",
        "!pip install -q findspark"
      ],
      "execution_count": 0,
      "outputs": []
    },
    {
      "cell_type": "code",
      "metadata": {
        "id": "6gudGCF4Ekv1",
        "colab_type": "code",
        "colab": {}
      },
      "source": [
        "import os\n",
        "os.environ[\"SPARK_HOME\"] = \"/content/spark-2.4.5-bin-hadoop2.7\"\n",
        "os.environ[\"JAVA_HOME\"] = \"/usr/lib/jvm/java-8-openjdk-amd64\""
      ],
      "execution_count": 0,
      "outputs": []
    },
    {
      "cell_type": "code",
      "metadata": {
        "id": "V4iYMGKEEqZK",
        "colab_type": "code",
        "colab": {}
      },
      "source": [
        "import findspark\n",
        "findspark.init()\n",
        "from pyspark.sql import SparkSession\n",
        "spark = SparkSession.builder.master(\"local[*]\").getOrCreate()"
      ],
      "execution_count": 0,
      "outputs": []
    },
    {
      "cell_type": "code",
      "metadata": {
        "id": "E4wFGvBhFTal",
        "colab_type": "code",
        "outputId": "b1ce23a1-e0d1-458b-8602-d46b709cfc71",
        "colab": {
          "resources": {
            "http://localhost:8080/nbextensions/google.colab/files.js": {
              "data": "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",
              "ok": true,
              "headers": [
                [
                  "content-type",
                  "application/javascript"
                ]
              ],
              "status": 200,
              "status_text": ""
            }
          },
          "base_uri": "https://localhost:8080/",
          "height": 74
        }
      },
      "source": [
        "from google.colab import files\n",
        "uploaded = files.upload()"
      ],
      "execution_count": 5,
      "outputs": [
        {
          "output_type": "display_data",
          "data": {
            "text/html": [
              "\n",
              "     <input type=\"file\" id=\"files-5d1eccf4-accd-48fe-a354-2902f6cab77f\" name=\"files[]\" multiple disabled />\n",
              "     <output id=\"result-5d1eccf4-accd-48fe-a354-2902f6cab77f\">\n",
              "      Upload widget is only available when the cell has been executed in the\n",
              "      current browser session. Please rerun this cell to enable.\n",
              "      </output>\n",
              "      <script src=\"/nbextensions/google.colab/files.js\"></script> "
            ],
            "text/plain": [
              "<IPython.core.display.HTML object>"
            ]
          },
          "metadata": {
            "tags": []
          }
        },
        {
          "output_type": "stream",
          "text": [
            "Saving carwood.csv to carwood (2).csv\n"
          ],
          "name": "stdout"
        }
      ]
    },
    {
      "cell_type": "code",
      "metadata": {
        "id": "AHDIn0nKvTIe",
        "colab_type": "code",
        "colab": {}
      },
      "source": [
        "df = pd.read_csv('carwood.csv')"
      ],
      "execution_count": 0,
      "outputs": []
    },
    {
      "cell_type": "code",
      "metadata": {
        "id": "tcRaqR94vTmo",
        "colab_type": "code",
        "outputId": "871f2be1-2335-49b0-9572-38f4b989a4f2",
        "colab": {
          "base_uri": "https://localhost:8080/",
          "height": 224
        }
      },
      "source": [
        "df.head()"
      ],
      "execution_count": 7,
      "outputs": [
        {
          "output_type": "execute_result",
          "data": {
            "text/html": [
              "<div>\n",
              "<style scoped>\n",
              "    .dataframe tbody tr th:only-of-type {\n",
              "        vertical-align: middle;\n",
              "    }\n",
              "\n",
              "    .dataframe tbody tr th {\n",
              "        vertical-align: top;\n",
              "    }\n",
              "\n",
              "    .dataframe thead th {\n",
              "        text-align: right;\n",
              "    }\n",
              "</style>\n",
              "<table border=\"1\" class=\"dataframe\">\n",
              "  <thead>\n",
              "    <tr style=\"text-align: right;\">\n",
              "      <th></th>\n",
              "      <th>f1</th>\n",
              "      <th>f2</th>\n",
              "      <th>f3</th>\n",
              "      <th>f4</th>\n",
              "      <th>f5</th>\n",
              "      <th>f6</th>\n",
              "      <th>f7</th>\n",
              "      <th>f8</th>\n",
              "      <th>f9</th>\n",
              "      <th>f10</th>\n",
              "      <th>f11</th>\n",
              "      <th>f12</th>\n",
              "      <th>f13</th>\n",
              "      <th>f14</th>\n",
              "      <th>f15</th>\n",
              "      <th>f16</th>\n",
              "      <th>f17</th>\n",
              "      <th>f18</th>\n",
              "      <th>f19</th>\n",
              "      <th>f20</th>\n",
              "      <th>f21</th>\n",
              "      <th>f22</th>\n",
              "      <th>f23</th>\n",
              "      <th>f24</th>\n",
              "      <th>f25</th>\n",
              "      <th>f26</th>\n",
              "      <th>f27</th>\n",
              "      <th>f28</th>\n",
              "      <th>f29</th>\n",
              "      <th>f30</th>\n",
              "      <th>f31</th>\n",
              "      <th>f32</th>\n",
              "      <th>f33</th>\n",
              "      <th>f34</th>\n",
              "      <th>f35</th>\n",
              "      <th>f36</th>\n",
              "      <th>f37</th>\n",
              "      <th>f38</th>\n",
              "      <th>f39</th>\n",
              "      <th>f40</th>\n",
              "      <th>f41</th>\n",
              "      <th>f42</th>\n",
              "      <th>f43</th>\n",
              "      <th>f44</th>\n",
              "      <th>f45</th>\n",
              "      <th>f46</th>\n",
              "      <th>f47</th>\n",
              "      <th>f48</th>\n",
              "      <th>f49</th>\n",
              "      <th>f50</th>\n",
              "      <th>f51</th>\n",
              "      <th>f52</th>\n",
              "      <th>f53</th>\n",
              "      <th>f54</th>\n",
              "      <th>f55</th>\n",
              "      <th>f56</th>\n",
              "      <th>f57</th>\n",
              "      <th>f58</th>\n",
              "      <th>f59</th>\n",
              "      <th>f60</th>\n",
              "      <th>f61</th>\n",
              "      <th>f62</th>\n",
              "      <th>f63</th>\n",
              "      <th>f64</th>\n",
              "      <th>f65</th>\n",
              "      <th>f66</th>\n",
              "      <th>f67</th>\n",
              "      <th>label</th>\n",
              "    </tr>\n",
              "  </thead>\n",
              "  <tbody>\n",
              "    <tr>\n",
              "      <th>0</th>\n",
              "      <td>170.39</td>\n",
              "      <td>167.28</td>\n",
              "      <td>143.44</td>\n",
              "      <td>124.67</td>\n",
              "      <td>139.01</td>\n",
              "      <td>125.83</td>\n",
              "      <td>144.33</td>\n",
              "      <td>151.26</td>\n",
              "      <td>175.51</td>\n",
              "      <td>171.31</td>\n",
              "      <td>161.90</td>\n",
              "      <td>146.92</td>\n",
              "      <td>141.80</td>\n",
              "      <td>140.91</td>\n",
              "      <td>132.80</td>\n",
              "      <td>128.48</td>\n",
              "      <td>170.83</td>\n",
              "      <td>161.06</td>\n",
              "      <td>169.61</td>\n",
              "      <td>168.07</td>\n",
              "      <td>154.88</td>\n",
              "      <td>149.33</td>\n",
              "      <td>152.91</td>\n",
              "      <td>152.61</td>\n",
              "      <td>137.09</td>\n",
              "      <td>169.59</td>\n",
              "      <td>183.01</td>\n",
              "      <td>180.44</td>\n",
              "      <td>164.55</td>\n",
              "      <td>152.63</td>\n",
              "      <td>157.77</td>\n",
              "      <td>165.07</td>\n",
              "      <td>149.52</td>\n",
              "      <td>142.73</td>\n",
              "      <td>173.85</td>\n",
              "      <td>182.23</td>\n",
              "      <td>174.58</td>\n",
              "      <td>163.28</td>\n",
              "      <td>164.01</td>\n",
              "      <td>169.20</td>\n",
              "      <td>148.48</td>\n",
              "      <td>134.31</td>\n",
              "      <td>174.07</td>\n",
              "      <td>191.33</td>\n",
              "      <td>157.51</td>\n",
              "      <td>168.66</td>\n",
              "      <td>156.89</td>\n",
              "      <td>170.86</td>\n",
              "      <td>162.24</td>\n",
              "      <td>184.84</td>\n",
              "      <td>167.02</td>\n",
              "      <td>123.67</td>\n",
              "      <td>140.54</td>\n",
              "      <td>153.69</td>\n",
              "      <td>147.57</td>\n",
              "      <td>144.65</td>\n",
              "      <td>162.24</td>\n",
              "      <td>172.96</td>\n",
              "      <td>169.67</td>\n",
              "      <td>157.51</td>\n",
              "      <td>161.06</td>\n",
              "      <td>133.23</td>\n",
              "      <td>124.41</td>\n",
              "      <td>138.44</td>\n",
              "      <td>142.93</td>\n",
              "      <td>137.13</td>\n",
              "      <td>134.44</td>\n",
              "      <td>0</td>\n",
              "    </tr>\n",
              "    <tr>\n",
              "      <th>1</th>\n",
              "      <td>169.75</td>\n",
              "      <td>190.96</td>\n",
              "      <td>175.53</td>\n",
              "      <td>138.27</td>\n",
              "      <td>137.47</td>\n",
              "      <td>139.23</td>\n",
              "      <td>133.23</td>\n",
              "      <td>130.25</td>\n",
              "      <td>147.73</td>\n",
              "      <td>163.93</td>\n",
              "      <td>167.36</td>\n",
              "      <td>171.52</td>\n",
              "      <td>155.54</td>\n",
              "      <td>139.34</td>\n",
              "      <td>151.95</td>\n",
              "      <td>149.30</td>\n",
              "      <td>173.37</td>\n",
              "      <td>141.00</td>\n",
              "      <td>153.57</td>\n",
              "      <td>128.45</td>\n",
              "      <td>159.93</td>\n",
              "      <td>165.33</td>\n",
              "      <td>147.94</td>\n",
              "      <td>143.74</td>\n",
              "      <td>140.88</td>\n",
              "      <td>182.53</td>\n",
              "      <td>184.08</td>\n",
              "      <td>148.09</td>\n",
              "      <td>125.26</td>\n",
              "      <td>139.67</td>\n",
              "      <td>138.70</td>\n",
              "      <td>132.86</td>\n",
              "      <td>141.50</td>\n",
              "      <td>145.40</td>\n",
              "      <td>164.58</td>\n",
              "      <td>170.71</td>\n",
              "      <td>127.83</td>\n",
              "      <td>133.99</td>\n",
              "      <td>141.20</td>\n",
              "      <td>152.87</td>\n",
              "      <td>142.36</td>\n",
              "      <td>148.26</td>\n",
              "      <td>162.54</td>\n",
              "      <td>156.55</td>\n",
              "      <td>153.39</td>\n",
              "      <td>137.99</td>\n",
              "      <td>129.64</td>\n",
              "      <td>137.59</td>\n",
              "      <td>155.39</td>\n",
              "      <td>147.92</td>\n",
              "      <td>152.14</td>\n",
              "      <td>162.48</td>\n",
              "      <td>168.72</td>\n",
              "      <td>161.14</td>\n",
              "      <td>147.87</td>\n",
              "      <td>141.02</td>\n",
              "      <td>155.39</td>\n",
              "      <td>139.58</td>\n",
              "      <td>141.58</td>\n",
              "      <td>153.39</td>\n",
              "      <td>141.00</td>\n",
              "      <td>148.43</td>\n",
              "      <td>168.12</td>\n",
              "      <td>169.90</td>\n",
              "      <td>165.64</td>\n",
              "      <td>166.86</td>\n",
              "      <td>137.69</td>\n",
              "      <td>0</td>\n",
              "    </tr>\n",
              "    <tr>\n",
              "      <th>2</th>\n",
              "      <td>153.69</td>\n",
              "      <td>153.68</td>\n",
              "      <td>144.02</td>\n",
              "      <td>158.73</td>\n",
              "      <td>178.87</td>\n",
              "      <td>157.04</td>\n",
              "      <td>152.92</td>\n",
              "      <td>147.52</td>\n",
              "      <td>142.87</td>\n",
              "      <td>165.26</td>\n",
              "      <td>160.39</td>\n",
              "      <td>137.86</td>\n",
              "      <td>149.62</td>\n",
              "      <td>153.43</td>\n",
              "      <td>152.60</td>\n",
              "      <td>162.85</td>\n",
              "      <td>146.35</td>\n",
              "      <td>167.11</td>\n",
              "      <td>134.27</td>\n",
              "      <td>126.81</td>\n",
              "      <td>136.28</td>\n",
              "      <td>158.40</td>\n",
              "      <td>171.58</td>\n",
              "      <td>161.60</td>\n",
              "      <td>162.91</td>\n",
              "      <td>143.14</td>\n",
              "      <td>129.73</td>\n",
              "      <td>125.97</td>\n",
              "      <td>151.09</td>\n",
              "      <td>177.89</td>\n",
              "      <td>169.20</td>\n",
              "      <td>160.65</td>\n",
              "      <td>156.86</td>\n",
              "      <td>135.66</td>\n",
              "      <td>126.92</td>\n",
              "      <td>131.22</td>\n",
              "      <td>154.37</td>\n",
              "      <td>158.59</td>\n",
              "      <td>158.52</td>\n",
              "      <td>155.25</td>\n",
              "      <td>154.33</td>\n",
              "      <td>130.18</td>\n",
              "      <td>127.66</td>\n",
              "      <td>148.94</td>\n",
              "      <td>155.37</td>\n",
              "      <td>163.53</td>\n",
              "      <td>139.70</td>\n",
              "      <td>143.79</td>\n",
              "      <td>141.61</td>\n",
              "      <td>166.88</td>\n",
              "      <td>164.60</td>\n",
              "      <td>149.58</td>\n",
              "      <td>139.56</td>\n",
              "      <td>154.74</td>\n",
              "      <td>173.01</td>\n",
              "      <td>155.18</td>\n",
              "      <td>141.61</td>\n",
              "      <td>155.19</td>\n",
              "      <td>170.51</td>\n",
              "      <td>155.37</td>\n",
              "      <td>167.11</td>\n",
              "      <td>146.89</td>\n",
              "      <td>141.01</td>\n",
              "      <td>159.43</td>\n",
              "      <td>169.68</td>\n",
              "      <td>163.24</td>\n",
              "      <td>165.17</td>\n",
              "      <td>0</td>\n",
              "    </tr>\n",
              "    <tr>\n",
              "      <th>3</th>\n",
              "      <td>131.69</td>\n",
              "      <td>151.56</td>\n",
              "      <td>151.05</td>\n",
              "      <td>134.00</td>\n",
              "      <td>151.18</td>\n",
              "      <td>175.53</td>\n",
              "      <td>171.34</td>\n",
              "      <td>159.77</td>\n",
              "      <td>151.95</td>\n",
              "      <td>146.10</td>\n",
              "      <td>148.53</td>\n",
              "      <td>140.28</td>\n",
              "      <td>138.16</td>\n",
              "      <td>145.44</td>\n",
              "      <td>150.40</td>\n",
              "      <td>158.18</td>\n",
              "      <td>163.80</td>\n",
              "      <td>152.43</td>\n",
              "      <td>171.49</td>\n",
              "      <td>150.20</td>\n",
              "      <td>131.28</td>\n",
              "      <td>157.18</td>\n",
              "      <td>157.04</td>\n",
              "      <td>151.13</td>\n",
              "      <td>151.66</td>\n",
              "      <td>143.32</td>\n",
              "      <td>157.23</td>\n",
              "      <td>152.91</td>\n",
              "      <td>134.75</td>\n",
              "      <td>154.65</td>\n",
              "      <td>171.65</td>\n",
              "      <td>160.30</td>\n",
              "      <td>157.73</td>\n",
              "      <td>143.67</td>\n",
              "      <td>145.87</td>\n",
              "      <td>151.73</td>\n",
              "      <td>147.09</td>\n",
              "      <td>151.21</td>\n",
              "      <td>157.96</td>\n",
              "      <td>148.50</td>\n",
              "      <td>156.60</td>\n",
              "      <td>147.45</td>\n",
              "      <td>153.18</td>\n",
              "      <td>156.58</td>\n",
              "      <td>157.83</td>\n",
              "      <td>147.98</td>\n",
              "      <td>143.47</td>\n",
              "      <td>142.83</td>\n",
              "      <td>138.08</td>\n",
              "      <td>147.91</td>\n",
              "      <td>148.05</td>\n",
              "      <td>145.66</td>\n",
              "      <td>156.50</td>\n",
              "      <td>167.52</td>\n",
              "      <td>151.33</td>\n",
              "      <td>129.51</td>\n",
              "      <td>138.08</td>\n",
              "      <td>164.25</td>\n",
              "      <td>155.82</td>\n",
              "      <td>157.83</td>\n",
              "      <td>152.43</td>\n",
              "      <td>150.82</td>\n",
              "      <td>146.58</td>\n",
              "      <td>128.85</td>\n",
              "      <td>140.76</td>\n",
              "      <td>177.35</td>\n",
              "      <td>174.61</td>\n",
              "      <td>0</td>\n",
              "    </tr>\n",
              "    <tr>\n",
              "      <th>4</th>\n",
              "      <td>162.85</td>\n",
              "      <td>158.88</td>\n",
              "      <td>132.27</td>\n",
              "      <td>138.41</td>\n",
              "      <td>143.98</td>\n",
              "      <td>159.30</td>\n",
              "      <td>177.26</td>\n",
              "      <td>180.58</td>\n",
              "      <td>159.34</td>\n",
              "      <td>164.66</td>\n",
              "      <td>138.04</td>\n",
              "      <td>132.76</td>\n",
              "      <td>157.88</td>\n",
              "      <td>165.58</td>\n",
              "      <td>173.64</td>\n",
              "      <td>163.50</td>\n",
              "      <td>127.97</td>\n",
              "      <td>167.31</td>\n",
              "      <td>141.39</td>\n",
              "      <td>147.02</td>\n",
              "      <td>137.52</td>\n",
              "      <td>135.46</td>\n",
              "      <td>146.41</td>\n",
              "      <td>159.09</td>\n",
              "      <td>164.53</td>\n",
              "      <td>148.45</td>\n",
              "      <td>130.76</td>\n",
              "      <td>136.22</td>\n",
              "      <td>144.86</td>\n",
              "      <td>127.38</td>\n",
              "      <td>137.09</td>\n",
              "      <td>159.08</td>\n",
              "      <td>153.25</td>\n",
              "      <td>182.49</td>\n",
              "      <td>187.75</td>\n",
              "      <td>139.37</td>\n",
              "      <td>117.12</td>\n",
              "      <td>124.07</td>\n",
              "      <td>134.60</td>\n",
              "      <td>144.85</td>\n",
              "      <td>132.64</td>\n",
              "      <td>170.87</td>\n",
              "      <td>188.26</td>\n",
              "      <td>173.32</td>\n",
              "      <td>135.74</td>\n",
              "      <td>127.15</td>\n",
              "      <td>131.69</td>\n",
              "      <td>127.80</td>\n",
              "      <td>149.46</td>\n",
              "      <td>114.16</td>\n",
              "      <td>100.11</td>\n",
              "      <td>154.02</td>\n",
              "      <td>175.30</td>\n",
              "      <td>175.46</td>\n",
              "      <td>144.39</td>\n",
              "      <td>142.47</td>\n",
              "      <td>149.46</td>\n",
              "      <td>132.80</td>\n",
              "      <td>130.96</td>\n",
              "      <td>135.74</td>\n",
              "      <td>167.31</td>\n",
              "      <td>188.21</td>\n",
              "      <td>179.52</td>\n",
              "      <td>146.20</td>\n",
              "      <td>153.73</td>\n",
              "      <td>152.12</td>\n",
              "      <td>146.58</td>\n",
              "      <td>0</td>\n",
              "    </tr>\n",
              "  </tbody>\n",
              "</table>\n",
              "</div>"
            ],
            "text/plain": [
              "       f1      f2      f3      f4  ...     f65     f66     f67  label\n",
              "0  170.39  167.28  143.44  124.67  ...  142.93  137.13  134.44      0\n",
              "1  169.75  190.96  175.53  138.27  ...  165.64  166.86  137.69      0\n",
              "2  153.69  153.68  144.02  158.73  ...  169.68  163.24  165.17      0\n",
              "3  131.69  151.56  151.05  134.00  ...  140.76  177.35  174.61      0\n",
              "4  162.85  158.88  132.27  138.41  ...  153.73  152.12  146.58      0\n",
              "\n",
              "[5 rows x 68 columns]"
            ]
          },
          "metadata": {
            "tags": []
          },
          "execution_count": 7
        }
      ]
    },
    {
      "cell_type": "code",
      "metadata": {
        "id": "MWg-vt7VvVTJ",
        "colab_type": "code",
        "outputId": "7117c4bf-7921-4f7b-f752-f51e4a194f09",
        "colab": {
          "base_uri": "https://localhost:8080/",
          "height": 34
        }
      },
      "source": [
        "#Checking dimension(features, observations)\n",
        "#The number of features is less than observations. \n",
        "#Therefore, I consider it as a low dimensional dataset.\n",
        "df.shape"
      ],
      "execution_count": 8,
      "outputs": [
        {
          "output_type": "execute_result",
          "data": {
            "text/plain": [
              "(2048, 68)"
            ]
          },
          "metadata": {
            "tags": []
          },
          "execution_count": 8
        }
      ]
    },
    {
      "cell_type": "code",
      "metadata": {
        "id": "zn5UBYJMKrNA",
        "colab_type": "code",
        "outputId": "a3fc5273-9e51-4718-b12e-8f2f094eef27",
        "colab": {
          "base_uri": "https://localhost:8080/",
          "height": 119
        }
      },
      "source": [
        "#dataset is complete\n",
        "missing_data = df.isnull().sum()\n",
        "missing_data.head()"
      ],
      "execution_count": 9,
      "outputs": [
        {
          "output_type": "execute_result",
          "data": {
            "text/plain": [
              "f1    0\n",
              "f2    0\n",
              "f3    0\n",
              "f4    0\n",
              "f5    0\n",
              "dtype: int64"
            ]
          },
          "metadata": {
            "tags": []
          },
          "execution_count": 9
        }
      ]
    },
    {
      "cell_type": "code",
      "metadata": {
        "id": "8UDA5KasLHV5",
        "colab_type": "code",
        "outputId": "40eb2776-89cc-44da-b209-a83826e19a6e",
        "colab": {
          "base_uri": "https://localhost:8080/",
          "height": 317
        }
      },
      "source": [
        "#According to the properties (mean, meadian, min, max, etc.) it should be claimed statistical results and range are similar\n",
        "df.describe()"
      ],
      "execution_count": 10,
      "outputs": [
        {
          "output_type": "execute_result",
          "data": {
            "text/html": [
              "<div>\n",
              "<style scoped>\n",
              "    .dataframe tbody tr th:only-of-type {\n",
              "        vertical-align: middle;\n",
              "    }\n",
              "\n",
              "    .dataframe tbody tr th {\n",
              "        vertical-align: top;\n",
              "    }\n",
              "\n",
              "    .dataframe thead th {\n",
              "        text-align: right;\n",
              "    }\n",
              "</style>\n",
              "<table border=\"1\" class=\"dataframe\">\n",
              "  <thead>\n",
              "    <tr style=\"text-align: right;\">\n",
              "      <th></th>\n",
              "      <th>f1</th>\n",
              "      <th>f2</th>\n",
              "      <th>f3</th>\n",
              "      <th>f4</th>\n",
              "      <th>f5</th>\n",
              "      <th>f6</th>\n",
              "      <th>f7</th>\n",
              "      <th>f8</th>\n",
              "      <th>f9</th>\n",
              "      <th>f10</th>\n",
              "      <th>f11</th>\n",
              "      <th>f12</th>\n",
              "      <th>f13</th>\n",
              "      <th>f14</th>\n",
              "      <th>f15</th>\n",
              "      <th>f16</th>\n",
              "      <th>f17</th>\n",
              "      <th>f18</th>\n",
              "      <th>f19</th>\n",
              "      <th>f20</th>\n",
              "      <th>f21</th>\n",
              "      <th>f22</th>\n",
              "      <th>f23</th>\n",
              "      <th>f24</th>\n",
              "      <th>f25</th>\n",
              "      <th>f26</th>\n",
              "      <th>f27</th>\n",
              "      <th>f28</th>\n",
              "      <th>f29</th>\n",
              "      <th>f30</th>\n",
              "      <th>f31</th>\n",
              "      <th>f32</th>\n",
              "      <th>f33</th>\n",
              "      <th>f34</th>\n",
              "      <th>f35</th>\n",
              "      <th>f36</th>\n",
              "      <th>f37</th>\n",
              "      <th>f38</th>\n",
              "      <th>f39</th>\n",
              "      <th>f40</th>\n",
              "      <th>f41</th>\n",
              "      <th>f42</th>\n",
              "      <th>f43</th>\n",
              "      <th>f44</th>\n",
              "      <th>f45</th>\n",
              "      <th>f46</th>\n",
              "      <th>f47</th>\n",
              "      <th>f48</th>\n",
              "      <th>f49</th>\n",
              "      <th>f50</th>\n",
              "      <th>f51</th>\n",
              "      <th>f52</th>\n",
              "      <th>f53</th>\n",
              "      <th>f54</th>\n",
              "      <th>f55</th>\n",
              "      <th>f56</th>\n",
              "      <th>f57</th>\n",
              "      <th>f58</th>\n",
              "      <th>f59</th>\n",
              "      <th>f60</th>\n",
              "      <th>f61</th>\n",
              "      <th>f62</th>\n",
              "      <th>f63</th>\n",
              "      <th>f64</th>\n",
              "      <th>f65</th>\n",
              "      <th>f66</th>\n",
              "      <th>f67</th>\n",
              "      <th>label</th>\n",
              "    </tr>\n",
              "  </thead>\n",
              "  <tbody>\n",
              "    <tr>\n",
              "      <th>count</th>\n",
              "      <td>2048.000000</td>\n",
              "      <td>2048.000000</td>\n",
              "      <td>2048.000000</td>\n",
              "      <td>2048.000000</td>\n",
              "      <td>2048.000000</td>\n",
              "      <td>2048.000000</td>\n",
              "      <td>2048.000000</td>\n",
              "      <td>2048.000000</td>\n",
              "      <td>2048.000000</td>\n",
              "      <td>2048.000000</td>\n",
              "      <td>2048.000000</td>\n",
              "      <td>2048.000000</td>\n",
              "      <td>2048.000000</td>\n",
              "      <td>2048.000000</td>\n",
              "      <td>2048.000000</td>\n",
              "      <td>2048.000000</td>\n",
              "      <td>2048.000000</td>\n",
              "      <td>2048.000000</td>\n",
              "      <td>2048.000000</td>\n",
              "      <td>2048.000000</td>\n",
              "      <td>2048.000000</td>\n",
              "      <td>2048.000000</td>\n",
              "      <td>2048.000000</td>\n",
              "      <td>2048.000000</td>\n",
              "      <td>2048.000000</td>\n",
              "      <td>2048.000000</td>\n",
              "      <td>2048.000000</td>\n",
              "      <td>2048.000000</td>\n",
              "      <td>2048.000000</td>\n",
              "      <td>2048.000000</td>\n",
              "      <td>2048.000000</td>\n",
              "      <td>2048.000000</td>\n",
              "      <td>2048.000000</td>\n",
              "      <td>2048.000000</td>\n",
              "      <td>2048.000000</td>\n",
              "      <td>2048.000000</td>\n",
              "      <td>2048.000000</td>\n",
              "      <td>2048.000000</td>\n",
              "      <td>2048.000000</td>\n",
              "      <td>2048.000000</td>\n",
              "      <td>2048.000000</td>\n",
              "      <td>2048.000000</td>\n",
              "      <td>2048.000000</td>\n",
              "      <td>2048.000000</td>\n",
              "      <td>2048.000000</td>\n",
              "      <td>2048.000000</td>\n",
              "      <td>2048.000000</td>\n",
              "      <td>2048.000000</td>\n",
              "      <td>2048.000000</td>\n",
              "      <td>2048.000000</td>\n",
              "      <td>2048.000000</td>\n",
              "      <td>2048.000000</td>\n",
              "      <td>2048.000000</td>\n",
              "      <td>2048.000000</td>\n",
              "      <td>2048.000000</td>\n",
              "      <td>2048.000000</td>\n",
              "      <td>2048.000000</td>\n",
              "      <td>2048.000000</td>\n",
              "      <td>2048.000000</td>\n",
              "      <td>2048.000000</td>\n",
              "      <td>2048.000000</td>\n",
              "      <td>2048.000000</td>\n",
              "      <td>2048.000000</td>\n",
              "      <td>2048.000000</td>\n",
              "      <td>2048.000000</td>\n",
              "      <td>2048.000000</td>\n",
              "      <td>2048.000000</td>\n",
              "      <td>2048.000000</td>\n",
              "    </tr>\n",
              "    <tr>\n",
              "      <th>mean</th>\n",
              "      <td>125.569231</td>\n",
              "      <td>125.356807</td>\n",
              "      <td>125.422041</td>\n",
              "      <td>125.719333</td>\n",
              "      <td>126.005055</td>\n",
              "      <td>126.084465</td>\n",
              "      <td>125.885123</td>\n",
              "      <td>125.783833</td>\n",
              "      <td>125.704766</td>\n",
              "      <td>125.858361</td>\n",
              "      <td>125.394845</td>\n",
              "      <td>125.674087</td>\n",
              "      <td>126.013817</td>\n",
              "      <td>126.071018</td>\n",
              "      <td>125.905548</td>\n",
              "      <td>125.649362</td>\n",
              "      <td>125.720607</td>\n",
              "      <td>124.636116</td>\n",
              "      <td>125.925467</td>\n",
              "      <td>125.672095</td>\n",
              "      <td>125.626894</td>\n",
              "      <td>126.120828</td>\n",
              "      <td>126.452329</td>\n",
              "      <td>126.030681</td>\n",
              "      <td>125.938922</td>\n",
              "      <td>125.436985</td>\n",
              "      <td>125.642772</td>\n",
              "      <td>125.350434</td>\n",
              "      <td>125.153424</td>\n",
              "      <td>125.588723</td>\n",
              "      <td>125.862603</td>\n",
              "      <td>125.777101</td>\n",
              "      <td>126.114360</td>\n",
              "      <td>124.802756</td>\n",
              "      <td>125.485349</td>\n",
              "      <td>125.100847</td>\n",
              "      <td>124.529527</td>\n",
              "      <td>124.959006</td>\n",
              "      <td>125.344213</td>\n",
              "      <td>125.352716</td>\n",
              "      <td>125.322815</td>\n",
              "      <td>124.368897</td>\n",
              "      <td>124.494701</td>\n",
              "      <td>124.379704</td>\n",
              "      <td>124.988847</td>\n",
              "      <td>124.212635</td>\n",
              "      <td>124.015511</td>\n",
              "      <td>124.239888</td>\n",
              "      <td>125.054577</td>\n",
              "      <td>124.726197</td>\n",
              "      <td>124.851752</td>\n",
              "      <td>124.681799</td>\n",
              "      <td>124.554998</td>\n",
              "      <td>124.788285</td>\n",
              "      <td>124.988186</td>\n",
              "      <td>124.724497</td>\n",
              "      <td>125.054577</td>\n",
              "      <td>125.262919</td>\n",
              "      <td>125.201682</td>\n",
              "      <td>124.988847</td>\n",
              "      <td>124.636116</td>\n",
              "      <td>124.841744</td>\n",
              "      <td>125.067299</td>\n",
              "      <td>125.202800</td>\n",
              "      <td>125.444424</td>\n",
              "      <td>125.414388</td>\n",
              "      <td>125.564611</td>\n",
              "      <td>0.501465</td>\n",
              "    </tr>\n",
              "    <tr>\n",
              "      <th>std</th>\n",
              "      <td>33.292731</td>\n",
              "      <td>32.822212</td>\n",
              "      <td>32.643005</td>\n",
              "      <td>32.966031</td>\n",
              "      <td>33.526247</td>\n",
              "      <td>33.589233</td>\n",
              "      <td>33.220224</td>\n",
              "      <td>33.214697</td>\n",
              "      <td>33.548514</td>\n",
              "      <td>33.402901</td>\n",
              "      <td>32.788323</td>\n",
              "      <td>33.139636</td>\n",
              "      <td>33.596940</td>\n",
              "      <td>33.649753</td>\n",
              "      <td>33.395156</td>\n",
              "      <td>33.117749</td>\n",
              "      <td>32.821256</td>\n",
              "      <td>33.203148</td>\n",
              "      <td>33.194239</td>\n",
              "      <td>32.860294</td>\n",
              "      <td>32.889931</td>\n",
              "      <td>33.358334</td>\n",
              "      <td>33.539194</td>\n",
              "      <td>33.257714</td>\n",
              "      <td>32.945501</td>\n",
              "      <td>33.519881</td>\n",
              "      <td>33.437336</td>\n",
              "      <td>32.970900</td>\n",
              "      <td>32.758562</td>\n",
              "      <td>33.246426</td>\n",
              "      <td>33.531668</td>\n",
              "      <td>33.483145</td>\n",
              "      <td>33.632709</td>\n",
              "      <td>33.249019</td>\n",
              "      <td>33.590801</td>\n",
              "      <td>33.247055</td>\n",
              "      <td>32.476556</td>\n",
              "      <td>32.908790</td>\n",
              "      <td>33.366125</td>\n",
              "      <td>33.495895</td>\n",
              "      <td>33.304360</td>\n",
              "      <td>33.889958</td>\n",
              "      <td>33.748150</td>\n",
              "      <td>33.668510</td>\n",
              "      <td>33.527471</td>\n",
              "      <td>33.738985</td>\n",
              "      <td>33.501672</td>\n",
              "      <td>33.634354</td>\n",
              "      <td>33.813020</td>\n",
              "      <td>33.951207</td>\n",
              "      <td>33.918297</td>\n",
              "      <td>33.481712</td>\n",
              "      <td>33.492443</td>\n",
              "      <td>33.765211</td>\n",
              "      <td>34.105339</td>\n",
              "      <td>33.741519</td>\n",
              "      <td>33.813020</td>\n",
              "      <td>34.030045</td>\n",
              "      <td>33.795493</td>\n",
              "      <td>33.527471</td>\n",
              "      <td>33.203148</td>\n",
              "      <td>33.230530</td>\n",
              "      <td>33.728213</td>\n",
              "      <td>33.685539</td>\n",
              "      <td>33.716557</td>\n",
              "      <td>33.675680</td>\n",
              "      <td>33.669027</td>\n",
              "      <td>0.500120</td>\n",
              "    </tr>\n",
              "    <tr>\n",
              "      <th>min</th>\n",
              "      <td>47.124000</td>\n",
              "      <td>47.262000</td>\n",
              "      <td>48.485000</td>\n",
              "      <td>49.323000</td>\n",
              "      <td>47.077000</td>\n",
              "      <td>47.365000</td>\n",
              "      <td>47.063000</td>\n",
              "      <td>47.546000</td>\n",
              "      <td>49.302000</td>\n",
              "      <td>48.393000</td>\n",
              "      <td>48.001000</td>\n",
              "      <td>49.138000</td>\n",
              "      <td>51.571000</td>\n",
              "      <td>51.154000</td>\n",
              "      <td>48.043000</td>\n",
              "      <td>47.507000</td>\n",
              "      <td>42.081000</td>\n",
              "      <td>47.444000</td>\n",
              "      <td>44.227000</td>\n",
              "      <td>48.473000</td>\n",
              "      <td>48.780000</td>\n",
              "      <td>50.101000</td>\n",
              "      <td>50.896000</td>\n",
              "      <td>49.030000</td>\n",
              "      <td>49.496000</td>\n",
              "      <td>45.491000</td>\n",
              "      <td>48.195000</td>\n",
              "      <td>47.260000</td>\n",
              "      <td>46.670000</td>\n",
              "      <td>44.992000</td>\n",
              "      <td>45.669000</td>\n",
              "      <td>46.245000</td>\n",
              "      <td>45.589000</td>\n",
              "      <td>46.734000</td>\n",
              "      <td>45.279000</td>\n",
              "      <td>42.499000</td>\n",
              "      <td>45.096000</td>\n",
              "      <td>44.383000</td>\n",
              "      <td>43.993000</td>\n",
              "      <td>43.201000</td>\n",
              "      <td>46.362000</td>\n",
              "      <td>43.346000</td>\n",
              "      <td>44.097000</td>\n",
              "      <td>42.936000</td>\n",
              "      <td>49.456000</td>\n",
              "      <td>45.339000</td>\n",
              "      <td>45.733000</td>\n",
              "      <td>43.998000</td>\n",
              "      <td>40.721000</td>\n",
              "      <td>40.565000</td>\n",
              "      <td>43.186000</td>\n",
              "      <td>41.958000</td>\n",
              "      <td>43.798000</td>\n",
              "      <td>44.526000</td>\n",
              "      <td>42.369000</td>\n",
              "      <td>42.543000</td>\n",
              "      <td>40.721000</td>\n",
              "      <td>45.416000</td>\n",
              "      <td>47.957000</td>\n",
              "      <td>49.456000</td>\n",
              "      <td>47.444000</td>\n",
              "      <td>45.266000</td>\n",
              "      <td>44.772000</td>\n",
              "      <td>46.018000</td>\n",
              "      <td>47.871000</td>\n",
              "      <td>50.691000</td>\n",
              "      <td>53.071000</td>\n",
              "      <td>0.000000</td>\n",
              "    </tr>\n",
              "    <tr>\n",
              "      <th>25%</th>\n",
              "      <td>99.490000</td>\n",
              "      <td>99.095500</td>\n",
              "      <td>100.217500</td>\n",
              "      <td>99.784750</td>\n",
              "      <td>99.094250</td>\n",
              "      <td>98.990500</td>\n",
              "      <td>99.144750</td>\n",
              "      <td>99.745750</td>\n",
              "      <td>98.876750</td>\n",
              "      <td>99.449500</td>\n",
              "      <td>99.277500</td>\n",
              "      <td>98.952000</td>\n",
              "      <td>99.036250</td>\n",
              "      <td>98.669250</td>\n",
              "      <td>99.077000</td>\n",
              "      <td>99.552000</td>\n",
              "      <td>99.955250</td>\n",
              "      <td>99.410750</td>\n",
              "      <td>100.041250</td>\n",
              "      <td>100.622500</td>\n",
              "      <td>100.737500</td>\n",
              "      <td>100.417500</td>\n",
              "      <td>100.397500</td>\n",
              "      <td>100.092500</td>\n",
              "      <td>100.412500</td>\n",
              "      <td>99.851000</td>\n",
              "      <td>99.654000</td>\n",
              "      <td>100.122500</td>\n",
              "      <td>100.177500</td>\n",
              "      <td>99.898750</td>\n",
              "      <td>99.795000</td>\n",
              "      <td>100.127500</td>\n",
              "      <td>100.182500</td>\n",
              "      <td>99.350000</td>\n",
              "      <td>99.867500</td>\n",
              "      <td>100.380000</td>\n",
              "      <td>100.265000</td>\n",
              "      <td>100.080000</td>\n",
              "      <td>100.065000</td>\n",
              "      <td>100.045000</td>\n",
              "      <td>100.257500</td>\n",
              "      <td>100.485000</td>\n",
              "      <td>100.060000</td>\n",
              "      <td>100.445000</td>\n",
              "      <td>100.001750</td>\n",
              "      <td>100.170000</td>\n",
              "      <td>100.257500</td>\n",
              "      <td>100.285000</td>\n",
              "      <td>100.915000</td>\n",
              "      <td>100.590000</td>\n",
              "      <td>100.727500</td>\n",
              "      <td>100.692500</td>\n",
              "      <td>100.627500</td>\n",
              "      <td>100.562500</td>\n",
              "      <td>100.977500</td>\n",
              "      <td>100.630000</td>\n",
              "      <td>100.915000</td>\n",
              "      <td>100.787500</td>\n",
              "      <td>100.782500</td>\n",
              "      <td>100.001750</td>\n",
              "      <td>99.410750</td>\n",
              "      <td>99.743250</td>\n",
              "      <td>99.723250</td>\n",
              "      <td>99.964250</td>\n",
              "      <td>100.127500</td>\n",
              "      <td>100.280000</td>\n",
              "      <td>100.590000</td>\n",
              "      <td>0.000000</td>\n",
              "    </tr>\n",
              "    <tr>\n",
              "      <th>50%</th>\n",
              "      <td>123.430000</td>\n",
              "      <td>124.160000</td>\n",
              "      <td>123.970000</td>\n",
              "      <td>124.460000</td>\n",
              "      <td>123.735000</td>\n",
              "      <td>124.275000</td>\n",
              "      <td>124.465000</td>\n",
              "      <td>124.390000</td>\n",
              "      <td>123.425000</td>\n",
              "      <td>124.595000</td>\n",
              "      <td>124.175000</td>\n",
              "      <td>124.240000</td>\n",
              "      <td>124.470000</td>\n",
              "      <td>124.600000</td>\n",
              "      <td>123.795000</td>\n",
              "      <td>123.810000</td>\n",
              "      <td>124.725000</td>\n",
              "      <td>122.720000</td>\n",
              "      <td>123.980000</td>\n",
              "      <td>124.215000</td>\n",
              "      <td>123.775000</td>\n",
              "      <td>124.310000</td>\n",
              "      <td>124.275000</td>\n",
              "      <td>123.775000</td>\n",
              "      <td>124.160000</td>\n",
              "      <td>123.865000</td>\n",
              "      <td>124.210000</td>\n",
              "      <td>124.475000</td>\n",
              "      <td>123.640000</td>\n",
              "      <td>124.065000</td>\n",
              "      <td>124.075000</td>\n",
              "      <td>123.800000</td>\n",
              "      <td>124.395000</td>\n",
              "      <td>121.635000</td>\n",
              "      <td>121.995000</td>\n",
              "      <td>121.800000</td>\n",
              "      <td>121.680000</td>\n",
              "      <td>121.460000</td>\n",
              "      <td>121.605000</td>\n",
              "      <td>121.125000</td>\n",
              "      <td>121.470000</td>\n",
              "      <td>118.805000</td>\n",
              "      <td>119.515000</td>\n",
              "      <td>119.535000</td>\n",
              "      <td>122.830000</td>\n",
              "      <td>119.115000</td>\n",
              "      <td>118.665000</td>\n",
              "      <td>118.735000</td>\n",
              "      <td>119.750000</td>\n",
              "      <td>118.855000</td>\n",
              "      <td>119.540000</td>\n",
              "      <td>120.605000</td>\n",
              "      <td>120.595000</td>\n",
              "      <td>120.215000</td>\n",
              "      <td>120.360000</td>\n",
              "      <td>119.580000</td>\n",
              "      <td>119.750000</td>\n",
              "      <td>120.205000</td>\n",
              "      <td>121.310000</td>\n",
              "      <td>122.830000</td>\n",
              "      <td>122.720000</td>\n",
              "      <td>121.955000</td>\n",
              "      <td>122.195000</td>\n",
              "      <td>122.650000</td>\n",
              "      <td>122.845000</td>\n",
              "      <td>123.160000</td>\n",
              "      <td>123.250000</td>\n",
              "      <td>1.000000</td>\n",
              "    </tr>\n",
              "    <tr>\n",
              "      <th>75%</th>\n",
              "      <td>153.017500</td>\n",
              "      <td>151.252500</td>\n",
              "      <td>152.505000</td>\n",
              "      <td>152.347500</td>\n",
              "      <td>152.677500</td>\n",
              "      <td>153.165000</td>\n",
              "      <td>153.202500</td>\n",
              "      <td>152.085000</td>\n",
              "      <td>152.965000</td>\n",
              "      <td>152.192500</td>\n",
              "      <td>150.957500</td>\n",
              "      <td>152.387500</td>\n",
              "      <td>152.800000</td>\n",
              "      <td>153.170000</td>\n",
              "      <td>153.825000</td>\n",
              "      <td>152.352500</td>\n",
              "      <td>152.960000</td>\n",
              "      <td>150.965000</td>\n",
              "      <td>151.112500</td>\n",
              "      <td>150.322500</td>\n",
              "      <td>151.240000</td>\n",
              "      <td>153.217500</td>\n",
              "      <td>153.780000</td>\n",
              "      <td>152.705000</td>\n",
              "      <td>152.832500</td>\n",
              "      <td>152.437500</td>\n",
              "      <td>152.585000</td>\n",
              "      <td>150.650000</td>\n",
              "      <td>151.082500</td>\n",
              "      <td>152.447500</td>\n",
              "      <td>152.382500</td>\n",
              "      <td>153.080000</td>\n",
              "      <td>152.952500</td>\n",
              "      <td>150.200000</td>\n",
              "      <td>152.682500</td>\n",
              "      <td>151.722500</td>\n",
              "      <td>150.800000</td>\n",
              "      <td>152.555000</td>\n",
              "      <td>152.095000</td>\n",
              "      <td>153.072500</td>\n",
              "      <td>152.980000</td>\n",
              "      <td>151.587500</td>\n",
              "      <td>151.515000</td>\n",
              "      <td>151.087500</td>\n",
              "      <td>151.660000</td>\n",
              "      <td>150.772500</td>\n",
              "      <td>150.865000</td>\n",
              "      <td>151.727500</td>\n",
              "      <td>152.745000</td>\n",
              "      <td>152.480000</td>\n",
              "      <td>151.567500</td>\n",
              "      <td>151.535000</td>\n",
              "      <td>151.622500</td>\n",
              "      <td>152.397500</td>\n",
              "      <td>153.070000</td>\n",
              "      <td>152.642500</td>\n",
              "      <td>152.745000</td>\n",
              "      <td>152.225000</td>\n",
              "      <td>152.540000</td>\n",
              "      <td>151.660000</td>\n",
              "      <td>150.965000</td>\n",
              "      <td>152.472500</td>\n",
              "      <td>152.145000</td>\n",
              "      <td>152.840000</td>\n",
              "      <td>153.142500</td>\n",
              "      <td>153.210000</td>\n",
              "      <td>152.800000</td>\n",
              "      <td>1.000000</td>\n",
              "    </tr>\n",
              "    <tr>\n",
              "      <th>max</th>\n",
              "      <td>210.650000</td>\n",
              "      <td>210.200000</td>\n",
              "      <td>212.930000</td>\n",
              "      <td>211.000000</td>\n",
              "      <td>213.100000</td>\n",
              "      <td>215.900000</td>\n",
              "      <td>218.090000</td>\n",
              "      <td>215.430000</td>\n",
              "      <td>223.880000</td>\n",
              "      <td>224.050000</td>\n",
              "      <td>217.950000</td>\n",
              "      <td>209.420000</td>\n",
              "      <td>215.700000</td>\n",
              "      <td>209.130000</td>\n",
              "      <td>211.730000</td>\n",
              "      <td>219.070000</td>\n",
              "      <td>218.370000</td>\n",
              "      <td>205.700000</td>\n",
              "      <td>220.350000</td>\n",
              "      <td>206.390000</td>\n",
              "      <td>214.410000</td>\n",
              "      <td>222.340000</td>\n",
              "      <td>215.530000</td>\n",
              "      <td>210.400000</td>\n",
              "      <td>216.200000</td>\n",
              "      <td>212.800000</td>\n",
              "      <td>209.050000</td>\n",
              "      <td>209.300000</td>\n",
              "      <td>215.970000</td>\n",
              "      <td>218.490000</td>\n",
              "      <td>204.750000</td>\n",
              "      <td>210.760000</td>\n",
              "      <td>222.850000</td>\n",
              "      <td>213.630000</td>\n",
              "      <td>210.660000</td>\n",
              "      <td>215.090000</td>\n",
              "      <td>208.190000</td>\n",
              "      <td>217.520000</td>\n",
              "      <td>220.610000</td>\n",
              "      <td>215.740000</td>\n",
              "      <td>222.290000</td>\n",
              "      <td>225.270000</td>\n",
              "      <td>215.770000</td>\n",
              "      <td>211.910000</td>\n",
              "      <td>221.070000</td>\n",
              "      <td>218.110000</td>\n",
              "      <td>208.780000</td>\n",
              "      <td>216.440000</td>\n",
              "      <td>213.500000</td>\n",
              "      <td>213.450000</td>\n",
              "      <td>226.900000</td>\n",
              "      <td>220.060000</td>\n",
              "      <td>214.020000</td>\n",
              "      <td>223.510000</td>\n",
              "      <td>214.080000</td>\n",
              "      <td>212.510000</td>\n",
              "      <td>213.500000</td>\n",
              "      <td>214.890000</td>\n",
              "      <td>219.110000</td>\n",
              "      <td>221.070000</td>\n",
              "      <td>205.700000</td>\n",
              "      <td>213.330000</td>\n",
              "      <td>216.480000</td>\n",
              "      <td>217.970000</td>\n",
              "      <td>212.540000</td>\n",
              "      <td>203.640000</td>\n",
              "      <td>209.640000</td>\n",
              "      <td>1.000000</td>\n",
              "    </tr>\n",
              "  </tbody>\n",
              "</table>\n",
              "</div>"
            ],
            "text/plain": [
              "                f1           f2  ...          f67        label\n",
              "count  2048.000000  2048.000000  ...  2048.000000  2048.000000\n",
              "mean    125.569231   125.356807  ...   125.564611     0.501465\n",
              "std      33.292731    32.822212  ...    33.669027     0.500120\n",
              "min      47.124000    47.262000  ...    53.071000     0.000000\n",
              "25%      99.490000    99.095500  ...   100.590000     0.000000\n",
              "50%     123.430000   124.160000  ...   123.250000     1.000000\n",
              "75%     153.017500   151.252500  ...   152.800000     1.000000\n",
              "max     210.650000   210.200000  ...   209.640000     1.000000\n",
              "\n",
              "[8 rows x 68 columns]"
            ]
          },
          "metadata": {
            "tags": []
          },
          "execution_count": 10
        }
      ]
    },
    {
      "cell_type": "markdown",
      "metadata": {
        "id": "sieF4pyBSMgC",
        "colab_type": "text"
      },
      "source": [
        "**Checking scalability**"
      ]
    },
    {
      "cell_type": "code",
      "metadata": {
        "id": "DgCx6LZjLYlz",
        "colab_type": "code",
        "outputId": "bdd2df39-7e53-478b-b6eb-1cd0d41a8cac",
        "colab": {
          "base_uri": "https://localhost:8080/",
          "height": 265
        }
      },
      "source": [
        "plt.hist(df['f3'], bins=30)\n",
        "plt.show()"
      ],
      "execution_count": 11,
      "outputs": [
        {
          "output_type": "display_data",
          "data": {
            "image/png": "[encoded data removed]",
            "text/plain": [
              "<Figure size 432x288 with 1 Axes>"
            ]
          },
          "metadata": {
            "tags": []
          }
        }
      ]
    },
    {
      "cell_type": "code",
      "metadata": {
        "id": "fznm-G6NLMBT",
        "colab_type": "code",
        "outputId": "bd6b5ff9-6f93-46e2-b25c-7a81dece214e",
        "colab": {
          "base_uri": "https://localhost:8080/",
          "height": 266
        }
      },
      "source": [
        "plt.hist(df['f7'], bins=30)\n",
        "plt.show()"
      ],
      "execution_count": 12,
      "outputs": [
        {
          "output_type": "display_data",
          "data": {
            "image/png": "[encoded data removed]",
            "text/plain": [
              "<Figure size 432x288 with 1 Axes>"
            ]
          },
          "metadata": {
            "tags": []
          }
        }
      ]
    },
    {
      "cell_type": "markdown",
      "metadata": {
        "id": "14bHid1CLw_x",
        "colab_type": "text"
      },
      "source": [
        "The features such as f3 and f7 have the same units and scales."
      ]
    },
    {
      "cell_type": "code",
      "metadata": {
        "id": "iqLczDQkL2MA",
        "colab_type": "code",
        "outputId": "d16edd39-1c24-4225-d771-47c423c1dd0d",
        "colab": {
          "base_uri": "https://localhost:8080/",
          "height": 266
        }
      },
      "source": [
        "f3 = [df['f3']]\n",
        "f7 = [df['f7']]\n",
        "plt.hist(f3, alpha=0.5, label='f3', bins=30)\n",
        "plt.hist(f7, alpha=0.5, label='f7', bins=30)\n",
        "plt.legend(loc='upper right')\n",
        "plt.show()"
      ],
      "execution_count": 13,
      "outputs": [
        {
          "output_type": "display_data",
          "data": {
            "image/png": "[encoded data removed]",
            "text/plain": [
              "<Figure size 432x288 with 1 Axes>"
            ]
          },
          "metadata": {
            "tags": []
          }
        }
      ]
    },
    {
      "cell_type": "code",
      "metadata": {
        "id": "UySEZIbzUYib",
        "colab_type": "code",
        "outputId": "2b68adc6-a8ec-4c29-ac3c-6c1252f237fc",
        "colab": {
          "base_uri": "https://localhost:8080/",
          "height": 282
        }
      },
      "source": [
        "df.boxplot(column = ['f1', 'f2', 'f3', 'f4', 'f5'])"
      ],
      "execution_count": 14,
      "outputs": [
        {
          "output_type": "execute_result",
          "data": {
            "text/plain": [
              "<matplotlib.axes._subplots.AxesSubplot at 0x7f460084a9b0>"
            ]
          },
          "metadata": {
            "tags": []
          },
          "execution_count": 14
        },
        {
          "output_type": "display_data",
          "data": {
            "image/png": "[encoded data removed]",
            "text/plain": [
              "<Figure size 432x288 with 1 Axes>"
            ]
          },
          "metadata": {
            "tags": []
          }
        }
      ]
    },
    {
      "cell_type": "markdown",
      "metadata": {
        "id": "WoGuMnXtMD0U",
        "colab_type": "text"
      },
      "source": [
        "This histogram proves the previous claim and enforces the idea that there is no need for extra action such as normalization or standardization."
      ]
    },
    {
      "cell_type": "code",
      "metadata": {
        "id": "knwSZCCnCVA5",
        "colab_type": "code",
        "colab": {}
      },
      "source": [
        "#Finding duplicate columns\n",
        "def DuplicateColumn(df):\n",
        "    DuplicateColumns= set()\n",
        "    for x in range(df.shape[1]):\n",
        "        col = df.iloc[:, x]\n",
        "        for y in range(x + 1, df.shape[1]):\n",
        "            others = df.iloc[:, y]\n",
        "            if col.equals(others):\n",
        "                DuplicateColumns.add(df.columns.values[y])\n",
        " \n",
        "    return list(DuplicateColumns)"
      ],
      "execution_count": 0,
      "outputs": []
    },
    {
      "cell_type": "code",
      "metadata": {
        "id": "kUVN7y1HColB",
        "colab_type": "code",
        "colab": {}
      },
      "source": [
        "my_duplicates = DuplicateColumn(df)"
      ],
      "execution_count": 0,
      "outputs": []
    },
    {
      "cell_type": "code",
      "metadata": {
        "id": "hGki7hTYC4Ic",
        "colab_type": "code",
        "outputId": "6e1118a5-d9da-48e3-eafa-673c94a4edc4",
        "colab": {
          "base_uri": "https://localhost:8080/",
          "height": 85
        }
      },
      "source": [
        "print('Please find duplicate columns:')\n",
        "for col in my_duplicates:\n",
        "    print('Column name : ', col)"
      ],
      "execution_count": 17,
      "outputs": [
        {
          "output_type": "stream",
          "text": [
            "Please find duplicate columns:\n",
            "Column name :  f57\n",
            "Column name :  f60\n",
            "Column name :  f61\n"
          ],
          "name": "stdout"
        }
      ]
    },
    {
      "cell_type": "code",
      "metadata": {
        "id": "UXecYlhcD8Jy",
        "colab_type": "code",
        "outputId": "fdfa79db-67c2-4798-e313-127f29a9fcd4",
        "colab": {
          "base_uri": "https://localhost:8080/",
          "height": 272
        }
      },
      "source": [
        "# Deleting duplicate columns\n",
        "new_df = df.drop(columns=DuplicateColumn(df))\n",
        " \n",
        "print(\"New dataframe\", new_df, sep='\\n')"
      ],
      "execution_count": 18,
      "outputs": [
        {
          "output_type": "stream",
          "text": [
            "New dataframe\n",
            "           f1       f2       f3       f4  ...      f65      f66      f67  label\n",
            "0     170.390  167.280  143.440  124.670  ...  142.930  137.130  134.440      0\n",
            "1     169.750  190.960  175.530  138.270  ...  165.640  166.860  137.690      0\n",
            "2     153.690  153.680  144.020  158.730  ...  169.680  163.240  165.170      0\n",
            "3     131.690  151.560  151.050  134.000  ...  140.760  177.350  174.610      0\n",
            "4     162.850  158.880  132.270  138.410  ...  153.730  152.120  146.580      0\n",
            "...       ...      ...      ...      ...  ...      ...      ...      ...    ...\n",
            "2043   98.263  100.060   98.223   95.452  ...   74.998   76.695   78.166      1\n",
            "2044   75.507   73.811   73.184   72.460  ...   61.225   58.836   61.005      1\n",
            "2045   97.784  101.720   99.211   99.763  ...  113.940  113.270  120.430      1\n",
            "2046  119.330  118.820  119.030  118.250  ...  109.400  108.970  109.590      1\n",
            "2047  109.510  108.060  106.520  109.350  ...  113.660  107.080  103.280      1\n",
            "\n",
            "[2048 rows x 65 columns]\n"
          ],
          "name": "stdout"
        }
      ]
    },
    {
      "cell_type": "code",
      "metadata": {
        "id": "Xy94gk59EgIs",
        "colab_type": "code",
        "colab": {}
      },
      "source": [
        "#checking duplicates in new df\n",
        "my_duplicates_new = DuplicateColumn(new_df)"
      ],
      "execution_count": 0,
      "outputs": []
    },
    {
      "cell_type": "code",
      "metadata": {
        "id": "i1xxCh2CEZlf",
        "colab_type": "code",
        "outputId": "42018169-8907-46a3-dc7b-c8bbf7e0b045",
        "colab": {
          "base_uri": "https://localhost:8080/",
          "height": 34
        }
      },
      "source": [
        "#No duplicates\n",
        "print('No duplicate columns')\n",
        "for col in my_duplicates_new:\n",
        "    print('Column name : ', col)"
      ],
      "execution_count": 20,
      "outputs": [
        {
          "output_type": "stream",
          "text": [
            "No duplicate columns\n"
          ],
          "name": "stdout"
        }
      ]
    },
    {
      "cell_type": "code",
      "metadata": {
        "id": "Nqj79nSi7Dlv",
        "colab_type": "code",
        "outputId": "71364dd2-14a9-4b14-ad9d-79925f7cf221",
        "colab": {
          "base_uri": "https://localhost:8080/",
          "height": 68
        }
      },
      "source": [
        "new_df['label'].value_counts()"
      ],
      "execution_count": 21,
      "outputs": [
        {
          "output_type": "execute_result",
          "data": {
            "text/plain": [
              "1    1027\n",
              "0    1021\n",
              "Name: label, dtype: int64"
            ]
          },
          "metadata": {
            "tags": []
          },
          "execution_count": 21
        }
      ]
    },
    {
      "cell_type": "code",
      "metadata": {
        "id": "GKK22-ycSn09",
        "colab_type": "code",
        "colab": {}
      },
      "source": [
        "#Above given results show that it is imbalanced data"
      ],
      "execution_count": 0,
      "outputs": []
    },
    {
      "cell_type": "code",
      "metadata": {
        "id": "t0KHrTisX5vQ",
        "colab_type": "code",
        "colab": {}
      },
      "source": [
        "# Training model on imbalanced data\n",
        "# Creating X, y features\n",
        "y = new_df.label\n",
        "X = new_df.drop('label', axis=1)\n",
        " \n",
        "# Train model\n",
        "lgt1 = LogisticRegression(penalty='l1', solver='liblinear').fit(X, y)\n",
        " \n",
        "# Predict on training set\n",
        "prediction_y_1 = lgt1.predict(X)"
      ],
      "execution_count": 0,
      "outputs": []
    },
    {
      "cell_type": "code",
      "metadata": {
        "id": "X3E6iYY1YTHy",
        "colab_type": "code",
        "outputId": "349c5918-b220-4557-b9c8-03896048d33c",
        "colab": {
          "base_uri": "https://localhost:8080/",
          "height": 34
        }
      },
      "source": [
        "# Checking accuracy\n",
        "print(accuracy_score(prediction_y_1, y))\n",
        "#0.99169921875"
      ],
      "execution_count": 23,
      "outputs": [
        {
          "output_type": "stream",
          "text": [
            "0.99169921875\n"
          ],
          "name": "stdout"
        }
      ]
    },
    {
      "cell_type": "code",
      "metadata": {
        "id": "mADXMOeV6eDu",
        "colab_type": "code",
        "colab": {}
      },
      "source": [
        "# Creating majority and minority classes\n",
        "df_major = new_df[new_df.label==1]\n",
        "df_minor = new_df[new_df.label==0]"
      ],
      "execution_count": 0,
      "outputs": []
    },
    {
      "cell_type": "code",
      "metadata": {
        "id": "iFLSgf-i-3Ri",
        "colab_type": "code",
        "colab": {}
      },
      "source": [
        "# Resampling\n",
        "df_minority_resample= resample(df_minor, \n",
        "                                 replace=True,     \n",
        "                                 n_samples=1027,    \n",
        "                                 random_state=123)"
      ],
      "execution_count": 0,
      "outputs": []
    },
    {
      "cell_type": "code",
      "metadata": {
        "id": "pDC_moSc_gEf",
        "colab_type": "code",
        "colab": {}
      },
      "source": [
        "#combining majority with minority\n",
        "df_resample = pd.concat([df_major, df_minority_resample])"
      ],
      "execution_count": 0,
      "outputs": []
    },
    {
      "cell_type": "code",
      "metadata": {
        "id": "OyHYQRT4_o92",
        "colab_type": "code",
        "outputId": "0e762b00-5741-4bc6-eb10-a7358922a566",
        "colab": {
          "base_uri": "https://localhost:8080/",
          "height": 68
        }
      },
      "source": [
        "#After resampling it is visible that now data is balanced\n",
        "df_resample.label.value_counts()"
      ],
      "execution_count": 27,
      "outputs": [
        {
          "output_type": "execute_result",
          "data": {
            "text/plain": [
              "1    1027\n",
              "0    1027\n",
              "Name: label, dtype: int64"
            ]
          },
          "metadata": {
            "tags": []
          },
          "execution_count": 27
        }
      ]
    },
    {
      "cell_type": "markdown",
      "metadata": {
        "id": "coHfHnf-_xhA",
        "colab_type": "text"
      },
      "source": [
        "**Checking accuracy in balanced data**"
      ]
    },
    {
      "cell_type": "code",
      "metadata": {
        "id": "lfN0xmxF_2H0",
        "colab_type": "code",
        "colab": {}
      },
      "source": [
        "#creating X, y features\n",
        "y = df_resample.label\n",
        "X = df_resample.drop('label', axis=1)"
      ],
      "execution_count": 0,
      "outputs": []
    },
    {
      "cell_type": "code",
      "metadata": {
        "id": "vCQHUyFuAdmk",
        "colab_type": "code",
        "colab": {}
      },
      "source": [
        "# Logistic regression and fitting\n",
        "lgt2 = LogisticRegression(penalty='l1', solver='liblinear').fit(X, y)"
      ],
      "execution_count": 0,
      "outputs": []
    },
    {
      "cell_type": "code",
      "metadata": {
        "id": "JdyhlPJpAe73",
        "colab_type": "code",
        "colab": {}
      },
      "source": [
        "# Prediction\n",
        "prediction_y_2 = lgt2.predict(X)"
      ],
      "execution_count": 0,
      "outputs": []
    },
    {
      "cell_type": "code",
      "metadata": {
        "id": "dNNjMhjvAi15",
        "colab_type": "code",
        "outputId": "58203cc9-3e83-4fc1-98d0-320abb122ab0",
        "colab": {
          "base_uri": "https://localhost:8080/",
          "height": 34
        }
      },
      "source": [
        "# It predicts both classes\n",
        "print(np.unique(prediction_y_2))"
      ],
      "execution_count": 31,
      "outputs": [
        {
          "output_type": "stream",
          "text": [
            "[0 1]\n"
          ],
          "name": "stdout"
        }
      ]
    },
    {
      "cell_type": "code",
      "metadata": {
        "id": "fu_hdbYfAkg9",
        "colab_type": "code",
        "outputId": "612e7a2a-00a6-4352-d4a3-5d6fc9a945b8",
        "colab": {
          "base_uri": "https://localhost:8080/",
          "height": 34
        }
      },
      "source": [
        "# Accuracy checking\n",
        "print(accuracy_score(y, prediction_y_2))\n",
        "# 0.997078870496592"
      ],
      "execution_count": 32,
      "outputs": [
        {
          "output_type": "stream",
          "text": [
            "0.997078870496592\n"
          ],
          "name": "stdout"
        }
      ]
    },
    {
      "cell_type": "code",
      "metadata": {
        "id": "dyXvUD-tVMgU",
        "colab_type": "code",
        "colab": {}
      },
      "source": [
        "from sklearn.metrics import roc_auc_score"
      ],
      "execution_count": 0,
      "outputs": []
    },
    {
      "cell_type": "code",
      "metadata": {
        "id": "bEV-f9bhVUhE",
        "colab_type": "code",
        "colab": {}
      },
      "source": [
        "#Checking probablity\n",
        "probabality_y_2 = lgt2.predict_proba(X)\n",
        " \n",
        "#Keeping positive class\n",
        "probabality_y_2 = [p[1] for p in probabality_y_2]"
      ],
      "execution_count": 0,
      "outputs": []
    },
    {
      "cell_type": "code",
      "metadata": {
        "id": "sduJRYLKVwz9",
        "colab_type": "code",
        "outputId": "2a00b8c6-6674-4a59-a523-5dc674ef7869",
        "colab": {
          "base_uri": "https://localhost:8080/",
          "height": 34
        }
      },
      "source": [
        "#How model does well in terms of AUROC of the dataset\n",
        "print( roc_auc_score(y, probabality_y_2) )"
      ],
      "execution_count": 37,
      "outputs": [
        {
          "output_type": "stream",
          "text": [
            "0.9999611274554886\n"
          ],
          "name": "stdout"
        }
      ]
    },
    {
      "cell_type": "code",
      "metadata": {
        "id": "-Mx5dBm-V3f0",
        "colab_type": "code",
        "outputId": "3d631f67-15b2-4aa5-bde9-8a6d63ced07d",
        "colab": {
          "base_uri": "https://localhost:8080/",
          "height": 34
        }
      },
      "source": [
        "#AUROC on imbalanced data\n",
        "imbalance_probab = lgt1.predict_proba(X)\n",
        "imbalance_probab = [p[1] for p in imbalance_probab]\n",
        "\n",
        "print(roc_auc_score(y, imbalance_probab))"
      ],
      "execution_count": 38,
      "outputs": [
        {
          "output_type": "stream",
          "text": [
            "0.999735477075154\n"
          ],
          "name": "stdout"
        }
      ]
    },
    {
      "cell_type": "markdown",
      "metadata": {
        "id": "DQcfLUaqEsKn",
        "colab_type": "text"
      },
      "source": [
        "The dataset is complete but imbalanced. Therefore, it must be balanced. Additionally, boxplot, histograms, the properties such as mean, meadian, min/ max values, etc. prove that no need to do normalization or standardization.  Firstly, logistic regression is applied to the imbalanced data. After balancing the data the same process is executed on the balanced data. The rationale behind that is machine learning algorithms that are designed to increase overall accuracy. In this vein, the comparison should shed light on the results from two regressions. Furthemore, there is a need to check the accuracy results and AUCROC results. From the results, it should be claimed that there is not any problem related to the scalability and the data is balanced, accuracy results are close to each other. In conclusion, above given argumentation once again proves the hypothesis that the dataset is accurate. "
      ]
    }
  ]
}